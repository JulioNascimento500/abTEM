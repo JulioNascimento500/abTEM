{
 "cells": [
  {
   "cell_type": "code",
   "execution_count": 2,
   "id": "00696f80",
   "metadata": {},
   "outputs": [
    {
     "name": "stdout",
     "output_type": "stream",
     "text": [
      "/usr/lib/python3/dist-packages/secretstorage/dhcrypto.py:15: CryptographyDeprecationWarning: int_from_bytes is deprecated, use int.from_bytes instead\n",
      "  from cryptography.utils import int_from_bytes\n",
      "/usr/lib/python3/dist-packages/secretstorage/util.py:19: CryptographyDeprecationWarning: int_from_bytes is deprecated, use int.from_bytes instead\n",
      "  from cryptography.utils import int_from_bytes\n",
      "/home/jcdn500/.local/lib/python3.8/site-packages/pkg_resources/__init__.py:116: PkgResourcesDeprecationWarning: 0.23ubuntu1 is an invalid version and will not be supported in a future release\n",
      "  warnings.warn(\n",
      "/home/jcdn500/.local/lib/python3.8/site-packages/pkg_resources/__init__.py:116: PkgResourcesDeprecationWarning: 0.1.36ubuntu1 is an invalid version and will not be supported in a future release\n",
      "  warnings.warn(\n",
      "/home/jcdn500/.local/lib/python3.8/site-packages/cryptography/hazmat/backends/openssl/x509.py:14: CryptographyDeprecationWarning: This version of cryptography contains a temporary pyOpenSSL fallback path. Upgrade pyOpenSSL now.\n",
      "  warnings.warn(\n",
      "Collecting dask\n",
      "  Downloading dask-2023.5.0-py3-none-any.whl (1.2 MB)\n",
      "\u001b[K     |████████████████████████████████| 1.2 MB 5.8 MB/s eta 0:00:01\n",
      "\u001b[?25hRequirement already satisfied: packaging>=20.0 in /home/jcdn500/.local/lib/python3.8/site-packages (from dask) (21.3)\n",
      "Requirement already satisfied: pyyaml>=5.3.1 in /home/jcdn500/.local/lib/python3.8/site-packages (from dask) (5.4.1)\n",
      "Collecting toolz>=0.10.0\n",
      "  Downloading toolz-0.12.0-py3-none-any.whl (55 kB)\n",
      "\u001b[K     |████████████████████████████████| 55 kB 6.9 MB/s  eta 0:00:01\n",
      "\u001b[?25hRequirement already satisfied: click>=8.0 in /home/jcdn500/.local/lib/python3.8/site-packages (from dask) (8.0.3)\n",
      "Collecting importlib-metadata>=4.13.0\n",
      "  Downloading importlib_metadata-6.6.0-py3-none-any.whl (22 kB)\n",
      "Collecting cloudpickle>=1.5.0\n",
      "  Downloading cloudpickle-2.2.1-py3-none-any.whl (25 kB)\n",
      "Collecting partd>=1.2.0\n",
      "  Downloading partd-1.4.0-py3-none-any.whl (18 kB)\n",
      "Collecting fsspec>=2021.09.0\n",
      "  Downloading fsspec-2023.5.0-py3-none-any.whl (160 kB)\n",
      "\u001b[K     |████████████████████████████████| 160 kB 20.0 MB/s eta 0:00:01\n",
      "\u001b[?25hRequirement already satisfied: pyparsing!=3.0.5,>=2.0.2 in /home/jcdn500/.local/lib/python3.8/site-packages (from packaging>=20.0->dask) (3.0.6)\n",
      "Requirement already satisfied: zipp>=0.5 in /home/jcdn500/.local/lib/python3.8/site-packages (from importlib-metadata>=4.13.0->dask) (3.6.0)\n",
      "Collecting locket\n",
      "  Downloading locket-1.0.0-py2.py3-none-any.whl (4.4 kB)\n",
      "Installing collected packages: toolz, importlib-metadata, cloudpickle, locket, partd, fsspec, dask\n",
      "Successfully installed cloudpickle-2.2.1 dask-2023.5.0 fsspec-2023.5.0 importlib-metadata-6.6.0 locket-1.0.0 partd-1.4.0 toolz-0.12.0\n"
     ]
    }
   ],
   "source": [
    "!pip3 install dask"
   ]
  },
  {
   "cell_type": "code",
   "execution_count": 7,
   "id": "ff38abf8",
   "metadata": {},
   "outputs": [
    {
     "ename": "SyntaxError",
     "evalue": "invalid syntax (array.py, line 145)",
     "output_type": "error",
     "traceback": [
      "Traceback \u001b[0;36m(most recent call last)\u001b[0m:\n",
      "  File \u001b[1;32m\"/home/jcdn500/.local/lib/python3.8/site-packages/IPython/core/interactiveshell.py\"\u001b[0m, line \u001b[1;32m3457\u001b[0m, in \u001b[1;35mrun_code\u001b[0m\n    exec(code_obj, self.user_global_ns, self.user_ns)\n",
      "  File \u001b[1;32m\"/tmp/ipykernel_140211/1506431085.py\"\u001b[0m, line \u001b[1;32m5\u001b[0m, in \u001b[1;35m<module>\u001b[0m\n    import abtem\n",
      "  File \u001b[1;32m\"/home/jcdn500/Documents/abTEM_dask/abtem/__init__.py\"\u001b[0m, line \u001b[1;32m5\u001b[0m, in \u001b[1;35m<module>\u001b[0m\n    from abtem.potentials.charge_density import ChargeDensityPotential\n",
      "  File \u001b[1;32m\"/home/jcdn500/Documents/abTEM_dask/abtem/potentials/charge_density.py\"\u001b[0m, line \u001b[1;32m14\u001b[0m, in \u001b[1;35m<module>\u001b[0m\n    from abtem.core.parametrizations import EwaldParametrization\n",
      "  File \u001b[1;32m\"/home/jcdn500/Documents/abTEM_dask/abtem/core/parametrizations/__init__.py\"\u001b[0m, line \u001b[1;32m1\u001b[0m, in \u001b[1;35m<module>\u001b[0m\n    from abtem.core.parametrizations.lobato import LobatoParametrization\n",
      "  File \u001b[1;32m\"/home/jcdn500/Documents/abTEM_dask/abtem/core/parametrizations/lobato.py\"\u001b[0m, line \u001b[1;32m9\u001b[0m, in \u001b[1;35m<module>\u001b[0m\n    from abtem.core.parametrizations.base import Parametrization\n",
      "  File \u001b[1;32m\"/home/jcdn500/Documents/abTEM_dask/abtem/core/parametrizations/base.py\"\u001b[0m, line \u001b[1;32m8\u001b[0m, in \u001b[1;35m<module>\u001b[0m\n    from abtem.measurements import ReciprocalSpaceLineProfiles, RealSpaceLineProfiles\n",
      "\u001b[0;36m  File \u001b[0;32m\"/home/jcdn500/Documents/abTEM_dask/abtem/measurements.py\"\u001b[0;36m, line \u001b[0;32m29\u001b[0;36m, in \u001b[0;35m<module>\u001b[0;36m\u001b[0m\n\u001b[0;31m    from abtem.core.array import HasArray\u001b[0m\n",
      "\u001b[0;36m  File \u001b[0;32m\"/home/jcdn500/Documents/abTEM_dask/abtem/core/array.py\"\u001b[0;36m, line \u001b[0;32m145\u001b[0m\n\u001b[0;31m    progress_bar as progress_bar,\u001b[0m\n\u001b[0m                 ^\u001b[0m\n\u001b[0;31mSyntaxError\u001b[0m\u001b[0;31m:\u001b[0m invalid syntax\n"
     ]
    }
   ],
   "source": [
    "import sys\n",
    "import requests\n",
    "sys.path.insert(0,'/home/jcdn500/Documents/abTEM_dask')\n",
    "import numpy as np\n",
    "import abtem\n"
   ]
  },
  {
   "cell_type": "code",
   "execution_count": 8,
   "id": "02e2bd72",
   "metadata": {},
   "outputs": [
    {
     "ename": "NameError",
     "evalue": "name 'abtem' is not defined",
     "output_type": "error",
     "traceback": [
      "\u001b[0;31m---------------------------------------------------------------------------\u001b[0m",
      "\u001b[0;31mNameError\u001b[0m                                 Traceback (most recent call last)",
      "\u001b[0;32m/tmp/ipykernel_140211/1564149869.py\u001b[0m in \u001b[0;36m<module>\u001b[0;34m\u001b[0m\n\u001b[1;32m      4\u001b[0m \u001b[0msampling\u001b[0m \u001b[0;34m=\u001b[0m \u001b[0;34m[\u001b[0m\u001b[0;36m0.2\u001b[0m\u001b[0;34m,\u001b[0m\u001b[0;36m0.2\u001b[0m\u001b[0;34m]\u001b[0m\u001b[0;34m\u001b[0m\u001b[0;34m\u001b[0m\u001b[0m\n\u001b[1;32m      5\u001b[0m \u001b[0;34m\u001b[0m\u001b[0m\n\u001b[0;32m----> 6\u001b[0;31m vortex = abtem.transfer.Vortex(\n\u001b[0m\u001b[1;32m      7\u001b[0m     \u001b[0mquantum_number\u001b[0m \u001b[0;34m=\u001b[0m \u001b[0;36m4\u001b[0m\u001b[0;34m,\u001b[0m\u001b[0;34m\u001b[0m\u001b[0;34m\u001b[0m\u001b[0m\n\u001b[1;32m      8\u001b[0m     \u001b[0msemiangle_cutoff\u001b[0m \u001b[0;34m=\u001b[0m \u001b[0msemiangle_cutoff\u001b[0m\u001b[0;34m,\u001b[0m\u001b[0;34m\u001b[0m\u001b[0;34m\u001b[0m\u001b[0m\n",
      "\u001b[0;31mNameError\u001b[0m: name 'abtem' is not defined"
     ]
    }
   ],
   "source": [
    "energy = 300e3\n",
    "semiangle_cutoff = 6\n",
    "extent = [128,128]\n",
    "sampling = [0.2,0.2]\n",
    "\n",
    "vortex = abtem.transfer.Vortex(\n",
    "    quantum_number = 4,\n",
    "    semiangle_cutoff = semiangle_cutoff, \n",
    "    energy = energy,\n",
    "    extent = extent, \n",
    "    sampling = sampling\n",
    ")\n",
    "\n",
    "probe_vortex = abtem.Probe(\n",
    "    energy = energy,\n",
    "    extent = extent,\n",
    "    sampling = sampling,\n",
    "    aperture = vortex, \n",
    "    semiangle_cutoff = semiangle_cutoff\n",
    ")\n",
    "\n",
    "probe_vortex.build().complex_images().crop((64,64),(32,32)).show(vmax = 1e-5, cbar=True, title=\"Vortex beam (real-space)\");"
   ]
  },
  {
   "cell_type": "code",
   "execution_count": null,
   "id": "ae38dc55",
   "metadata": {},
   "outputs": [],
   "source": []
  }
 ],
 "metadata": {
  "kernelspec": {
   "display_name": "Python 3 (ipykernel)",
   "language": "python",
   "name": "python3"
  },
  "language_info": {
   "codemirror_mode": {
    "name": "ipython",
    "version": 3
   },
   "file_extension": ".py",
   "mimetype": "text/x-python",
   "name": "python",
   "nbconvert_exporter": "python",
   "pygments_lexer": "ipython3",
   "version": "3.8.10"
  }
 },
 "nbformat": 4,
 "nbformat_minor": 5
}
