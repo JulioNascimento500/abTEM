{
 "cells": [
  {
   "cell_type": "code",
   "execution_count": 1,
   "id": "d7fd1bf7",
   "metadata": {},
   "outputs": [
    {
     "name": "stderr",
     "output_type": "stream",
     "text": [
      "/home/jcdn500/.local/lib/python3.8/site-packages/ase/calculators/neighborlist.py:5: UserWarning: Moved to ase.neighborlist\n",
      "  warnings.warn('Moved to ase.neighborlist')\n"
     ]
    }
   ],
   "source": [
    "import sys\n",
    "import requests\n",
    "sys.path.insert(0,'/home/jcdn500/Documents/abTEM')\n",
    "sys.path.insert(0,'/home/jcdn500/Documents/abTEM/abtem')\n",
    "import numpy as np\n",
    "from abtem import *\n",
    "import matplotlib.pyplot as plt\n",
    "\n",
    "from abtem.waves import PlaneWave\n",
    "from ase.io import read, write\n",
    "from abtem.potentials import Potential"
   ]
  },
  {
   "cell_type": "code",
   "execution_count": 2,
   "id": "c2c5d9e3",
   "metadata": {},
   "outputs": [],
   "source": [
    "import sys\n",
    "import requests\n",
    "sys.path.insert(0,'/home/jcdn500/Documents/abTEM')\n",
    "sys.path.insert(0,'/home/jcdn500/Documents/abTEM/abtem')\n",
    "import numpy as np\n",
    "from abtem import *\n",
    "import matplotlib.pyplot as plt\n",
    "\n",
    "from abtem.waves import PlaneWave\n",
    "from ase.io import read, write\n",
    "from abtem.potentials import Potential\n",
    "\n",
    "\n",
    "from ase.dft.kpoints import get_special_points, get_bandpath\n",
    "from ase.spacegroup import Spacegroup\n",
    "\n",
    "from ase.visualize import view"
   ]
  },
  {
   "cell_type": "code",
   "execution_count": null,
   "id": "c0c36483",
   "metadata": {},
   "outputs": [],
   "source": []
  }
 ],
 "metadata": {
  "kernelspec": {
   "display_name": "Python 3 (ipykernel)",
   "language": "python",
   "name": "python3"
  },
  "language_info": {
   "codemirror_mode": {
    "name": "ipython",
    "version": 3
   },
   "file_extension": ".py",
   "mimetype": "text/x-python",
   "name": "python",
   "nbconvert_exporter": "python",
   "pygments_lexer": "ipython3",
   "version": "3.8.10"
  }
 },
 "nbformat": 4,
 "nbformat_minor": 5
}
