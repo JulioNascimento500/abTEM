{
 "cells": [
  {
   "cell_type": "code",
   "execution_count": 1,
   "id": "d632bf32",
   "metadata": {},
   "outputs": [
    {
     "name": "stderr",
     "output_type": "stream",
     "text": [
      "/home/jcdn500/.local/lib/python3.8/site-packages/ase/calculators/neighborlist.py:5: UserWarning: Moved to ase.neighborlist\n",
      "  warnings.warn('Moved to ase.neighborlist')\n"
     ]
    }
   ],
   "source": [
    "import sys\n",
    "import requests\n",
    "sys.path.insert(0,'/home/jcdn500/Documents/abTEM')\n",
    "sys.path.insert(0,'/home/jcdn500/Documents/abTEM/abtem')\n",
    "import numpy as np\n",
    "from abtem import *\n",
    "import matplotlib.pyplot as plt\n",
    "\n",
    "from abtem.waves import PlaneWave\n",
    "from ase.io import read, write\n",
    "from abtem.potentials import Potential"
   ]
  },
  {
   "cell_type": "code",
   "execution_count": 2,
   "id": "2e311095",
   "metadata": {},
   "outputs": [],
   "source": [
    "import sys\n",
    "import requests\n",
    "sys.path.insert(0,'/home/jcdn500/Documents/abTEM')\n",
    "sys.path.insert(0,'/home/jcdn500/Documents/abTEM/abtem')\n",
    "import numpy as np\n",
    "from abtem import *\n",
    "import matplotlib.pyplot as plt\n",
    "\n",
    "from abtem.waves import PlaneWave\n",
    "from ase.io import read, write\n",
    "from abtem.potentials import Potential\n",
    "\n",
    "\n",
    "from ase.dft.kpoints import get_special_points, get_bandpath\n",
    "from ase.spacegroup import Spacegroup\n",
    "\n",
    "from ase.visualize import view"
   ]
  },
  {
   "cell_type": "code",
   "execution_count": 3,
   "id": "145f4b1a",
   "metadata": {},
   "outputs": [],
   "source": [
    "# atoms = read('./Ni_FCC.cif')\n",
    "atoms = read('./Fe_cubic.cif')"
   ]
  },
  {
   "cell_type": "code",
   "execution_count": 4,
   "id": "ecce7aef",
   "metadata": {
    "scrolled": true
   },
   "outputs": [],
   "source": [
    "import sympy as sym\n",
    "\n",
    "## Set magnetic moments\n",
    "# pi=sym.pi\n",
    "# magmoms=[[2,pi,0], [2,0,0], [2,0,0], [2,pi,0]]\n",
    "# atoms.set_initial_magnetic_moments(magmoms)\n",
    "\n",
    "\n",
    "## Set magnetic moments\n",
    "pi=sym.pi\n",
    "magmoms=[[2,0,0]]\n",
    "atoms.set_initial_magnetic_moments(magmoms)"
   ]
  },
  {
   "cell_type": "code",
   "execution_count": 5,
   "id": "ebdfe090",
   "metadata": {},
   "outputs": [
    {
     "name": "stdout",
     "output_type": "stream",
     "text": [
      "[[0. 0. 0.]]\n"
     ]
    },
    {
     "data": {
      "text/plain": [
       "<subprocess.Popen at 0x7fc4c9eca9a0>"
      ]
     },
     "execution_count": 5,
     "metadata": {},
     "output_type": "execute_result"
    }
   ],
   "source": [
    "# Visualize the atoms with magmoms\n",
    "print(atoms.positions)\n",
    "view(atoms)"
   ]
  },
  {
   "cell_type": "code",
   "execution_count": 6,
   "id": "cf663ea9",
   "metadata": {},
   "outputs": [
    {
     "name": "stdout",
     "output_type": "stream",
     "text": [
      "[[[2.]]]\n"
     ]
    }
   ],
   "source": [
    "# Js=np.zeros([2,2,3])\n",
    "# for i in range(2):\n",
    "#     for j in range(2):\n",
    "#         for k in range(3):\n",
    "#             if i==j and k==0:\n",
    "#                 Js[i,j,k]=1.39 \n",
    "#             if i!=j and k==0:\n",
    "#                 Js[i,j,k]=1.34 \n",
    "#             if i!=j and k==2:\n",
    "#                 Js[i,j,k]=-19.04\n",
    "# print(Js)\n",
    "\n",
    "Js=np.zeros([1,1,1])\n",
    "for i in range(1):\n",
    "    for j in range(1):\n",
    "        for k in range(1):\n",
    "            if i==j and k==0:\n",
    "                Js[i,j,k]=2 \n",
    "\n",
    "print(Js)"
   ]
  },
  {
   "cell_type": "code",
   "execution_count": 7,
   "id": "c52f2e6c",
   "metadata": {},
   "outputs": [
    {
     "name": "stdout",
     "output_type": "stream",
     "text": [
      "['G', 'M', 'R', 'X']\n"
     ]
    }
   ],
   "source": [
    "lat = atoms.cell.get_bravais_lattice()\n",
    "print(list(lat.get_special_points()))\n",
    "\n",
    "path =  atoms.cell.bandpath('GMGX', npoints=1000)"
   ]
  },
  {
   "cell_type": "code",
   "execution_count": 8,
   "id": "6096ad49",
   "metadata": {},
   "outputs": [],
   "source": [
    "Input_mag=MagnonInput(atoms,\n",
    "                      interaction=Js,\n",
    "                      anisotropies=0,\n",
    "                      qpts=path.kpts,\n",
    "                      Temperature=300.0,\n",
    "                      inelastic_layer=[0])"
   ]
  },
  {
   "cell_type": "code",
   "execution_count": 9,
   "id": "7f7acd00",
   "metadata": {},
   "outputs": [],
   "source": [
    "H, orientationEach= Input_mag.Hamiltonian_film()"
   ]
  },
  {
   "cell_type": "code",
   "execution_count": 10,
   "id": "a98c87b8",
   "metadata": {},
   "outputs": [
    {
     "data": {
      "text/plain": [
       "array([[2., 0., 0.]])"
      ]
     },
     "execution_count": 10,
     "metadata": {},
     "output_type": "execute_result"
    }
   ],
   "source": [
    "orientationEach"
   ]
  },
  {
   "cell_type": "code",
   "execution_count": 11,
   "id": "f9e9a1c7",
   "metadata": {},
   "outputs": [
    {
     "data": {
      "text/plain": [
       "[<matplotlib.lines.Line2D at 0x7fc4e79c4e80>,\n",
       " <matplotlib.lines.Line2D at 0x7fc4e79c4eb0>]"
      ]
     },
     "execution_count": 11,
     "metadata": {},
     "output_type": "execute_result"
    },
    {
     "data": {
      "image/png": "[encoded data removed]",
      "text/plain": [
       "<Figure size 432x288 with 1 Axes>"
      ]
     },
     "metadata": {
      "needs_background": "light"
     },
     "output_type": "display_data"
    }
   ],
   "source": [
    "eVals_full,eVecs_fullL,eVecs_fullR = Input_mag.diagonalize_function(H)\n",
    "plt.plot(eVals_full.real)"
   ]
  },
  {
   "cell_type": "code",
   "execution_count": 12,
   "id": "c2f04058",
   "metadata": {},
   "outputs": [
    {
     "data": {
      "text/plain": [
       "[<matplotlib.lines.Line2D at 0x7fc4e784d940>,\n",
       " <matplotlib.lines.Line2D at 0x7fc4e784d970>]"
      ]
     },
     "execution_count": 12,
     "metadata": {},
     "output_type": "execute_result"
    },
    {
     "data": {
      "image/png": "[encoded data removed]",
      "text/plain": [
       "<Figure size 432x288 with 1 Axes>"
      ]
     },
     "metadata": {
      "needs_background": "light"
     },
     "output_type": "display_data"
    }
   ],
   "source": [
    "plt.plot(eVals_full.real)"
   ]
  },
  {
   "cell_type": "code",
   "execution_count": 13,
   "id": "ecb3ab7c",
   "metadata": {},
   "outputs": [],
   "source": [
    "Lists_of_Neigbours=Input_mag.get_neigb(0.01)\n",
    "#print(Lists_of_Neigbours)"
   ]
  },
  {
   "cell_type": "code",
   "execution_count": 14,
   "id": "0f60e168",
   "metadata": {},
   "outputs": [
    {
     "data": {
      "text/plain": [
       "1"
      ]
     },
     "execution_count": 14,
     "metadata": {},
     "output_type": "execute_result"
    }
   ],
   "source": [
    "Input_mag.M"
   ]
  },
  {
   "cell_type": "code",
   "execution_count": 15,
   "id": "fa5f9d4b",
   "metadata": {},
   "outputs": [],
   "source": [
    "H_main=np.zeros([Input_mag.M,Input_mag.M,len(path.kpts)],dtype=complex)\n",
    "H_main1=np.zeros([Input_mag.M,Input_mag.M,len(path.kpts)],dtype=complex)\n",
    "H_off1=np.zeros([Input_mag.M,Input_mag.M,len(path.kpts)],dtype=complex)\n",
    "H_off2=np.zeros([Input_mag.M,Input_mag.M,len(path.kpts)],dtype=complex)\n",
    "H_final=np.zeros([2*Input_mag.M,2*Input_mag.M,len(path.kpts)],dtype=complex)\n"
   ]
  },
  {
   "cell_type": "code",
   "execution_count": 16,
   "id": "7586a2a4",
   "metadata": {},
   "outputs": [],
   "source": [
    "#path.kpts"
   ]
  },
  {
   "cell_type": "code",
   "execution_count": 17,
   "id": "85f31984",
   "metadata": {},
   "outputs": [
    {
     "ename": "NameError",
     "evalue": "name 'Fzz' is not defined",
     "output_type": "error",
     "traceback": [
      "\u001b[0;31m---------------------------------------------------------------------------\u001b[0m",
      "\u001b[0;31mNameError\u001b[0m                                 Traceback (most recent call last)",
      "\u001b[0;32m/tmp/ipykernel_19890/3369517245.py\u001b[0m in \u001b[0;36m<module>\u001b[0;34m\u001b[0m\n\u001b[1;32m     14\u001b[0m         \u001b[0mSs\u001b[0m\u001b[0;34m=\u001b[0m\u001b[0morientationEach\u001b[0m\u001b[0;34m[\u001b[0m\u001b[0ms\u001b[0m\u001b[0;34m,\u001b[0m\u001b[0;36m0\u001b[0m\u001b[0;34m]\u001b[0m\u001b[0;34m\u001b[0m\u001b[0;34m\u001b[0m\u001b[0m\n\u001b[1;32m     15\u001b[0m \u001b[0;34m\u001b[0m\u001b[0m\n\u001b[0;32m---> 16\u001b[0;31m         \u001b[0mFzzM\u001b[0m\u001b[0;34m=\u001b[0m\u001b[0mFzz\u001b[0m\u001b[0;34m(\u001b[0m\u001b[0mInput_mag\u001b[0m\u001b[0;34m,\u001b[0m\u001b[0mi\u001b[0m\u001b[0;34m[\u001b[0m\u001b[0;36m0\u001b[0m\u001b[0;34m]\u001b[0m\u001b[0;34m,\u001b[0m\u001b[0mi\u001b[0m\u001b[0;34m[\u001b[0m\u001b[0;36m1\u001b[0m\u001b[0;34m]\u001b[0m\u001b[0;34m)\u001b[0m\u001b[0;34m\u001b[0m\u001b[0;34m\u001b[0m\u001b[0m\n\u001b[0m\u001b[1;32m     17\u001b[0m         \u001b[0mG1M\u001b[0m\u001b[0;34m=\u001b[0m\u001b[0mG1\u001b[0m\u001b[0;34m(\u001b[0m\u001b[0mInput_mag\u001b[0m\u001b[0;34m,\u001b[0m\u001b[0mi\u001b[0m\u001b[0;34m[\u001b[0m\u001b[0;36m0\u001b[0m\u001b[0;34m]\u001b[0m\u001b[0;34m,\u001b[0m\u001b[0mi\u001b[0m\u001b[0;34m[\u001b[0m\u001b[0;36m1\u001b[0m\u001b[0;34m]\u001b[0m\u001b[0;34m)\u001b[0m\u001b[0;34m\u001b[0m\u001b[0;34m\u001b[0m\u001b[0m\n\u001b[1;32m     18\u001b[0m         \u001b[0mG2M\u001b[0m\u001b[0;34m=\u001b[0m\u001b[0mG2\u001b[0m\u001b[0;34m(\u001b[0m\u001b[0mInput_mag\u001b[0m\u001b[0;34m,\u001b[0m\u001b[0mi\u001b[0m\u001b[0;34m[\u001b[0m\u001b[0;36m0\u001b[0m\u001b[0;34m]\u001b[0m\u001b[0;34m,\u001b[0m\u001b[0mi\u001b[0m\u001b[0;34m[\u001b[0m\u001b[0;36m1\u001b[0m\u001b[0;34m]\u001b[0m\u001b[0;34m)\u001b[0m\u001b[0;34m\u001b[0m\u001b[0;34m\u001b[0m\u001b[0m\n",
      "\u001b[0;31mNameError\u001b[0m: name 'Fzz' is not defined"
     ]
    }
   ],
   "source": [
    "H_main=np.zeros([Input_mag.M,Input_mag.M,len(path.kpts)],dtype=complex)\n",
    "H_main1=np.zeros([Input_mag.M,Input_mag.M,len(path.kpts)],dtype=complex)\n",
    "H_off1=np.zeros([Input_mag.M,Input_mag.M,len(path.kpts)],dtype=complex)\n",
    "H_off2=np.zeros([Input_mag.M,Input_mag.M,len(path.kpts)],dtype=complex)\n",
    "H_final=np.zeros([2*Input_mag.M,2*Input_mag.M,len(path.kpts)],dtype=complex)\n",
    "\n",
    "for num,j in enumerate(Lists_of_Neigbours):\n",
    "    for i in j:\n",
    "        \n",
    "        r=np.where((orientationEach==Input_mag._atoms.get_initial_magnetic_moments()[i[0]]).all(axis=1))[0][0]\n",
    "        s=np.where((orientationEach==Input_mag._atoms.get_initial_magnetic_moments()[i[1]]).all(axis=1))[0][0]\n",
    "        \n",
    "        Sr=orientationEach[r,0]\n",
    "        Ss=orientationEach[s,0]\n",
    "        \n",
    "        FzzM=Fzz(Input_mag,i[0],i[1])\n",
    "        G1M=G1(Input_mag,i[0],i[1])\n",
    "        G2M=G2(Input_mag,i[0],i[1])\n",
    "        \n",
    "        Gamma=(np.exp(-1.0j*np.dot(get_distance_vector(Input_mag,i),np.transpose(2*np.pi*(path.kpts/Input_mag._atoms.cell.diagonal())))))\n",
    "        #print(G1M)\n",
    "        \n",
    "        H_main[r,r,:]+=Input_mag._interaction[r,s,num]*Ss*FzzM\n",
    "        H_main[s,s,:]+=Input_mag._interaction[r,s,num]*Sr*FzzM\n",
    "        H_main[r,s,:]-=Input_mag._interaction[r,s,num]*(np.sqrt(Sr*Ss)/2)*(np.conj(Gamma)*G1M + Gamma*np.conj(G1M))\n",
    "\n",
    "        H_main1[r,r,:]+=Input_mag._interaction[r,s,num]*Ss*FzzM\n",
    "        H_main1[s,s,:]+=Input_mag._interaction[r,s,num]*Sr*FzzM\n",
    "        H_main1[r,s,:]-=Input_mag._interaction[r,s,num]*(np.sqrt(Sr*Ss)/2)*(np.conj(Gamma)*np.conj(G1M) + Gamma*G1M)\n",
    "\n",
    "        H_off1[r,s,:]-=Input_mag._interaction[r,s,num]*(np.sqrt(Sr*Ss)/2)*(np.conj(Gamma)*np.conj(G2M) + Gamma*np.conj(G2M))\n",
    "\n",
    "        H_off2[r,s,:]-=Input_mag._interaction[r,s,num]*(np.sqrt(Sr*Ss)/2)*(np.conj(Gamma)*G2M + Gamma*G2M)\n",
    "    \n",
    "        \n",
    "    for i in range(len(path.kpts)):\n",
    "        H_final[:,:,i]=(1/4)*np.block([[H_main[:,:,i],-H_off1[:,:,i]],\n",
    "                                 [H_off2[:,:,i],-(H_main1[:,:,i])]])"
   ]
  },
  {
   "cell_type": "code",
   "execution_count": null,
   "id": "d77c7e6b",
   "metadata": {},
   "outputs": [],
   "source": [
    "gamma = (1/3)*(np.cos(2*np.pi*(path.kpts[:,0])) +np.cos(2*np.pi*(path.kpts[:,1])) +np.cos(2*np.pi*(path.kpts[:,2])))"
   ]
  },
  {
   "cell_type": "code",
   "execution_count": null,
   "id": "7575e391",
   "metadata": {},
   "outputs": [],
   "source": [
    "plt.plot(6*1*2*(1-gamma))"
   ]
  },
  {
   "cell_type": "code",
   "execution_count": null,
   "id": "1f5a46e4",
   "metadata": {},
   "outputs": [],
   "source": [
    "H_final[:,:,0]"
   ]
  },
  {
   "cell_type": "code",
   "execution_count": null,
   "id": "b2c80948",
   "metadata": {},
   "outputs": [],
   "source": [
    "eVals_full,eVecs_fullL,eVecs_fullR = Input_mag.diagonalize_function(H_final)\n",
    "plt.plot(eVals_full.real*2,'--')\n",
    "\n",
    "#plt.plot(6*1*2*(1-gamma),'k')\n",
    "plt.ylim([-100,100])\n",
    "plt.show()"
   ]
  },
  {
   "cell_type": "code",
   "execution_count": 21,
   "id": "123b4b6d",
   "metadata": {},
   "outputs": [],
   "source": [
    "def get_distance_vector(Input_mag,bondpair):\n",
    "    Pos_Atom_1 = Input_mag._atoms.positions[bondpair[0]]\n",
    "    Pos_Atom_2 = Input_mag._atoms.positions[bondpair[1]]+np.dot(bondpair[2],Input_mag._atoms.cell)\n",
    "    distanceVector = Pos_Atom_2 - Pos_Atom_1\n",
    "    return distanceVector\n",
    "\n",
    "def scos(x): return sym.N(sym.cos(x))\n",
    "\n",
    "def ssin(x): return sym.N(sym.sin(x))\n",
    "\n",
    "def get_theta(mag):\n",
    "    return sym.acos(mag[2]/np.linalg.norm(mag))\n",
    "\n",
    "def get_phi(mag):\n",
    "    if mag[0]>0:\n",
    "        return sym.atan(mag[1]/mag[0])\n",
    "    if mag[0]<0 and mag[1]>=0:\n",
    "        return sym.atan(mag[1]/mag[0]) + sym.pi\n",
    "    if mag[0]<0 and mag[1]<0:\n",
    "        return sym.atan(mag[1]/mag[0]) - sym.pi\n",
    "    if mag[0]==0 and mag[1]>0:\n",
    "        return sym.pi/2\n",
    "    if mag[0]==0 and mag[1]<0:\n",
    "        return -sym.pi/2\n",
    "    if mag[0]==0 and mag[1]==0:\n",
    "        return 0\n",
    "\n",
    "\n",
    "def Fzz(Atoms,r,s):\n",
    "        \n",
    "    theta_r = Atoms._atoms.get_initial_magnetic_moments()[r,1]\n",
    "    phi_r = Atoms._atoms.get_initial_magnetic_moments()[r,2]\n",
    "    \n",
    "    theta_s = Atoms._atoms.get_initial_magnetic_moments()[s,1]\n",
    "    phi_s = Atoms._atoms.get_initial_magnetic_moments()[s,2]\n",
    "    \n",
    "    SinProd=ssin(theta_r)*ssin(theta_s)\n",
    "    CosProd=scos(theta_r)*scos(theta_s)\n",
    "    \n",
    "    CosDiff=scos(phi_r-phi_s)\n",
    "    \n",
    "    return float(SinProd*CosDiff + CosProd)\n",
    "\n",
    "\n",
    "def G1(Atoms,r,s):\n",
    "        \n",
    "    theta_r = Atoms._atoms.get_initial_magnetic_moments()[r,1]\n",
    "    phi_r = Atoms._atoms.get_initial_magnetic_moments()[r,2]\n",
    "    \n",
    "    theta_s = Atoms._atoms.get_initial_magnetic_moments()[s,1]\n",
    "    phi_s = Atoms._atoms.get_initial_magnetic_moments()[s,2]\n",
    "    \n",
    "    SinProd=ssin(theta_r)*ssin(theta_s)\n",
    "    CosProd=scos(theta_r)*scos(theta_s)\n",
    "    \n",
    "    SinDiff=ssin(phi_r-phi_s)\n",
    "    CosDiff=scos(phi_r-phi_s)\n",
    "    \n",
    "    CosPlus=scos(theta_r) + scos(theta_s)\n",
    "    \n",
    "    return float(((CosProd + 1)*CosDiff) + SinProd - (1.0j*SinDiff*CosPlus))\n",
    "\n",
    "\n",
    "def G2(Atoms,r,s):\n",
    "       \n",
    "    theta_r = Atoms._atoms.get_initial_magnetic_moments()[r,1]\n",
    "    phi_r = Atoms._atoms.get_initial_magnetic_moments()[r,2]\n",
    "    \n",
    "    theta_s = Atoms._atoms.get_initial_magnetic_moments()[s,1]\n",
    "    phi_s = Atoms._atoms.get_initial_magnetic_moments()[s,2]\n",
    "\n",
    "    SinProd=ssin(theta_r)*ssin(theta_s)\n",
    "    CosProd=scos(theta_r)*scos(theta_s)\n",
    "    \n",
    "    SinDiff=ssin(phi_r-phi_s)\n",
    "    CosDiff=scos(phi_r-phi_s)\n",
    "    \n",
    "    CosMinus=scos(theta_r) - scos(theta_s)\n",
    "    \n",
    "    return float(((CosProd - 1)*CosDiff) + SinProd - (1.0j*SinDiff*CosMinus))\n"
   ]
  },
  {
   "cell_type": "markdown",
   "id": "45459676",
   "metadata": {},
   "source": [
    "## Spin-spin scattering funciton ##"
   ]
  },
  {
   "cell_type": "code",
   "execution_count": null,
   "id": "63151996",
   "metadata": {},
   "outputs": [],
   "source": [
    "X=np.zeros(np.shape(eVecs_fullL),dtype=complex)\n",
    "\n",
    "for i in range(np.shape(eVecs_fullL)[-1]):\n",
    "    X[:,:,i] = np.linalg.inv(eVecs_fullL[:,:,i])\n"
   ]
  },
  {
   "cell_type": "code",
   "execution_count": null,
   "id": "346f0642",
   "metadata": {},
   "outputs": [],
   "source": [
    "def v_matrix_plus(Atoms,r,alpha):\n",
    "\n",
    "    direction=['x','y','z']    \n",
    "    \n",
    "    if alpha not in direction:\n",
    "        raise ValueError(\"the directions must be either the strings 'x' 'y' or 'z'\")\n",
    "    \n",
    "    alpha=direction.index(alpha)\n",
    "    \n",
    "    theta_r = Atoms._atoms.get_initial_magnetic_moments()[r,1]\n",
    "    phi_r = Atoms._atoms.get_initial_magnetic_moments()[r,2]\n",
    "    \n",
    "    U=np.array([[scos(theta_r)*scos(phi_r),scos(theta_r)*ssin(phi_r),-ssin(theta_r)],\n",
    "                [-ssin(phi_r),scos(phi_r),0],\n",
    "                [ssin(theta_r)*scos(phi_r),ssin(theta_r)*ssin(phi_r),scos(theta_r)]])\n",
    "    \n",
    "    return float(U[0,alpha] + complex(0,U[1,alpha]))\n",
    "\n",
    "def v_matrix_minus(Atoms,r,alpha):\n",
    " \n",
    "    direction=['x','y','z']\n",
    "\n",
    "    if alpha not in direction:\n",
    "        raise ValueError(\"the directions must be either the strings 'x' 'y' or 'z'\")\n",
    "\n",
    "    \n",
    "    alpha=direction.index(alpha)\n",
    "    \n",
    "    theta_r = Atoms._atoms.get_initial_magnetic_moments()[r,1]\n",
    "    phi_r = Atoms._atoms.get_initial_magnetic_moments()[r,2]\n",
    "    \n",
    "    U=np.array([[scos(theta_r)*scos(phi_r),scos(theta_r)*ssin(phi_r),-ssin(theta_r)],\n",
    "                [-ssin(phi_r),scos(phi_r),0],\n",
    "                [ssin(theta_r)*scos(phi_r),ssin(theta_r)*ssin(phi_r),scos(theta_r)]])\n",
    "    \n",
    "    return float(U[0,alpha] - complex(0,U[1,alpha]))"
   ]
  },
  {
   "cell_type": "code",
   "execution_count": null,
   "id": "c865d7cc",
   "metadata": {},
   "outputs": [],
   "source": [
    "v_matrix_minus(Input_mag,0,'x')"
   ]
  },
  {
   "cell_type": "code",
   "execution_count": null,
   "id": "ac884262",
   "metadata": {},
   "outputs": [],
   "source": [
    "M=Input_mag.M\n",
    "omega=np.linspace(-100,100,1000)\n",
    "print(M)"
   ]
  },
  {
   "cell_type": "code",
   "execution_count": null,
   "id": "ab448418",
   "metadata": {},
   "outputs": [],
   "source": [
    "print(v_matrix_minus(Input_mag,r,'x'))\n",
    "print(X[n,r,0])\n",
    "print(v_matrix_plus(Input_mag,r,'x'))\n",
    "print(X[n,r+M,0])\n",
    "print()\n",
    "print(eVecs_fullL[:,:,0])\n",
    "print()\n",
    "print(X[:,:,0])"
   ]
  },
  {
   "cell_type": "code",
   "execution_count": null,
   "id": "5ffa403a",
   "metadata": {},
   "outputs": [],
   "source": [
    "SpinSpin=np.zeros([1000,1000])\n",
    "#print(type(SpinSpin))\n",
    "\n",
    "for Enum,E in enumerate(omega):\n",
    "    for n in range(2*M):\n",
    "        Smatrix=0\n",
    "        for r in range(M):\n",
    "            for s in range(M):\n",
    "                \n",
    "                \n",
    "                W=v_matrix_minus(Input_mag,r,'x')*X[n,r,:] + v_matrix_plus(Input_mag,r,'x')*X[n,r+M,:]\n",
    "                Wconj=np.conj(v_matrix_minus(Input_mag,s,'x')*X[n,s,:] + v_matrix_plus(Input_mag,s,'x')*X[n,s+M,:])\n",
    "\n",
    "                Smatrix+=(W*Wconj)\n",
    "#                 print(W[0])\n",
    "#                 print(Wconj[0])\n",
    "#                 print()\n",
    "#                 print((W*Wconj)[0])\n",
    "#                 print()\n",
    "                #print(type(Smatrix))\n",
    "                #print(type(SpinSpin[Enum,:]))\n",
    "\n",
    "        SpinSpin[-Enum,:] = SpinSpin[-Enum,:] + (bose_einstein_distribution(abs(E), 0,300)+1)*(Smatrix*lorentzian_distribution(E, eVals_full[:,n], thickness))\n"
   ]
  },
  {
   "cell_type": "code",
   "execution_count": null,
   "id": "a8019a4a",
   "metadata": {},
   "outputs": [],
   "source": [
    "SpinSpin"
   ]
  },
  {
   "cell_type": "code",
   "execution_count": null,
   "id": "e0a283e0",
   "metadata": {},
   "outputs": [],
   "source": [
    "# Plot the heatmap\n",
    "# Plot the heatmap with a custom color for NaN values\n",
    "cmap = plt.cm.hot\n",
    "cmap.set_bad('gray')  # Set the color for NaN values\n",
    "\n",
    "plt.imshow(SpinSpin, cmap=cmap,\n",
    "           vmin=0.01, vmax=1,\n",
    "           aspect=np.shape(SpinSpin)[1]/np.shape(SpinSpin)[0])\n",
    "plt.colorbar()\n",
    "\n",
    "# Show the plot\n",
    "plt.show()"
   ]
  },
  {
   "cell_type": "code",
   "execution_count": null,
   "id": "854ff9ef",
   "metadata": {},
   "outputs": [],
   "source": [
    "np.max(SpinSpin)\n"
   ]
  },
  {
   "cell_type": "code",
   "execution_count": null,
   "id": "530c5c83",
   "metadata": {},
   "outputs": [],
   "source": [
    "omega=np.linspace(0,100,1000)"
   ]
  },
  {
   "cell_type": "code",
   "execution_count": null,
   "id": "ddabccfc",
   "metadata": {},
   "outputs": [],
   "source": [
    "import numpy as np\n",
    "\n",
    "def lorentzian_distribution(energy, energy_ref, thickness):\n",
    "    \"\"\"\n",
    "    Compute the value of the Lorentzian distribution at a given energy.\n",
    "\n",
    "    Parameters:\n",
    "    energy (float): The energy at which to evaluate the Lorentzian distribution.\n",
    "    energy_ref (float): The reference energy (center) of the distribution.\n",
    "    thickness (float): The thickness (scale) parameter of the distribution.\n",
    "\n",
    "    Returns:\n",
    "    float: The value of the Lorentzian distribution at the given energy.\n",
    "    \"\"\"\n",
    "    return 1.0 / (np.pi * thickness * (1.0 + ((energy - energy_ref) / thickness) ** 2))\n",
    "\n",
    "# Example usage\n",
    "energy = 1.5\n",
    "energy_ref = 20.0\n",
    "thickness = 0.5\n",
    "result = lorentzian_distribution(energy, energy_ref, thickness)\n",
    "print(\"Value of Lorentzian distribution:\", result)\n"
   ]
  },
  {
   "cell_type": "code",
   "execution_count": null,
   "id": "6e09cb87",
   "metadata": {},
   "outputs": [],
   "source": [
    "def bose_einstein_distribution(energy, chemical_potential, temperature):\n",
    "    k_ev = 8.617333262145e-5  # Boltzmann constant in ev/K\n",
    "\n",
    "    # Evaluate the Bose-Einstein distribution\n",
    "    difference = energy - chemical_potential\n",
    "#     if np.abs(difference) < 1e-12:  # Handle the case of small energy differences\n",
    "#         distribution = (k_ev * temperature) / energy\n",
    "#    else:\n",
    "    distribution = 1 / (np.exp(difference / (k_ev * temperature)) - 1)\n",
    "\n",
    "    return distribution"
   ]
  },
  {
   "cell_type": "code",
   "execution_count": null,
   "id": "6357e6f4",
   "metadata": {},
   "outputs": [],
   "source": [
    "plt.plot(omega,lorentzian_distribution(omega, 0, thickness))"
   ]
  },
  {
   "cell_type": "code",
   "execution_count": null,
   "id": "640c2111",
   "metadata": {},
   "outputs": [],
   "source": [
    "np.max(lorentzian_distribution(omega, 100, thickness))"
   ]
  },
  {
   "cell_type": "code",
   "execution_count": 18,
   "id": "b3210a05",
   "metadata": {},
   "outputs": [],
   "source": [
    "Lists_of_Neigbours=Input_mag.get_neigb(0.01)"
   ]
  },
  {
   "cell_type": "code",
   "execution_count": 19,
   "id": "8e1b9d20",
   "metadata": {},
   "outputs": [
    {
     "name": "stdout",
     "output_type": "stream",
     "text": [
      "[[(0, 0, array([0, 0, 1])), (0, 0, array([0, 1, 0])), (0, 0, array([1, 0, 0])), (0, 0, array([ 0,  0, -1])), (0, 0, array([ 0, -1,  0])), (0, 0, array([-1,  0,  0]))]]\n"
     ]
    }
   ],
   "source": [
    "print(Lists_of_Neigbours)"
   ]
  },
  {
   "cell_type": "code",
   "execution_count": 29,
   "id": "3f896bee",
   "metadata": {},
   "outputs": [
    {
     "name": "stdout",
     "output_type": "stream",
     "text": [
      "[ 1.00000000e+00-0.00000000e+00j  9.99963561e-01+8.53683286e-03j\n",
      "  9.99854245e-01+1.70730436e-02j  9.99672061e-01+2.56080100e-02j\n",
      "  9.99417022e-01+3.41411102e-02j  9.99089147e-01+4.26717222e-02j\n",
      "  9.98688460e-01+5.11992243e-02j  9.98214989e-01+5.97229951e-02j\n",
      "  9.97668769e-01+6.82424134e-02j  9.97049841e-01+7.67568582e-02j\n",
      "  9.96358248e-01+8.52657091e-02j  9.95594042e-01+9.37683459e-02j\n",
      "  9.94757279e-01+1.02264149e-01j  9.93848019e-01+1.10752499e-01j\n",
      "  9.92866328e-01+1.19232778e-01j  9.91812278e-01+1.27704367e-01j\n",
      "  9.90685946e-01+1.36166649e-01j  9.89487414e-01+1.44619008e-01j\n",
      "  9.88216769e-01+1.53060826e-01j  9.86874105e-01+1.61491490e-01j\n",
      "  9.85459518e-01+1.69910385e-01j  9.83973112e-01+1.78316897e-01j\n",
      "  9.82414995e-01+1.86710413e-01j  9.80785280e-01+1.95090322e-01j\n",
      "  9.79084088e-01+2.03456013e-01j  9.77311540e-01+2.11806876e-01j\n",
      "  9.75467768e-01+2.20142304e-01j  9.73552904e-01+2.28461687e-01j\n",
      "  9.71567089e-01+2.36764420e-01j  9.69510468e-01+2.45049899e-01j\n",
      "  9.67383189e-01+2.53317518e-01j  9.65185409e-01+2.61566676e-01j\n",
      "  9.62917287e-01+2.69796771e-01j  9.60578989e-01+2.78007204e-01j\n",
      "  9.58170685e-01+2.86197376e-01j  9.55692551e-01+2.94366690e-01j\n",
      "  9.53144767e-01+3.02514551e-01j  9.50527519e-01+3.10640365e-01j\n",
      "  9.47840997e-01+3.18743540e-01j  9.45085398e-01+3.26823485e-01j\n",
      "  9.42260922e-01+3.34879612e-01j  9.39367775e-01+3.42911333e-01j\n",
      "  9.36406169e-01+3.50918064e-01j  9.33376318e-01+3.58899219e-01j\n",
      "  9.30278443e-01+3.66854219e-01j  9.27112771e-01+3.74782482e-01j\n",
      "  9.23879533e-01+3.82683432e-01j  9.20578962e-01+3.90556493e-01j\n",
      "  9.17211302e-01+3.98401090e-01j  9.13776795e-01+4.06216652e-01j\n",
      "  9.10275694e-01+4.14002609e-01j  9.06708253e-01+4.21758395e-01j\n",
      "  9.03074732e-01+4.29483443e-01j  8.99375396e-01+4.37177191e-01j\n",
      "  8.95610515e-01+4.44839078e-01j  8.91780363e-01+4.52468546e-01j\n",
      "  8.87885218e-01+4.60065038e-01j  8.83925366e-01+4.67628001e-01j\n",
      "  8.79901094e-01+4.75156884e-01j  8.75812696e-01+4.82651138e-01j\n",
      "  8.71660470e-01+4.90110217e-01j  8.67444718e-01+4.97533578e-01j\n",
      "  8.63165748e-01+5.04920678e-01j  8.58823871e-01+5.12270981e-01j\n",
      "  8.54419405e-01+5.19583950e-01j  8.49952669e-01+5.26859052e-01j\n",
      "  8.45423989e-01+5.34095758e-01j  8.40833696e-01+5.41293539e-01j\n",
      "  8.36182124e-01+5.48451871e-01j  8.31469612e-01+5.55570233e-01j\n",
      "  8.26696504e-01+5.62648105e-01j  8.21863147e-01+5.69684973e-01j\n",
      "  8.16969893e-01+5.76680322e-01j  8.12017100e-01+5.83633644e-01j\n",
      "  8.07005127e-01+5.90544431e-01j  8.01934341e-01+5.97412179e-01j\n",
      "  7.96805111e-01+6.04236390e-01j  7.91617811e-01+6.11016564e-01j\n",
      "  7.86372819e-01+6.17752207e-01j  7.81070517e-01+6.24442830e-01j\n",
      "  7.75711291e-01+6.31087944e-01j  7.70295532e-01+6.37687065e-01j\n",
      "  7.64823635e-01+6.44239713e-01j  7.59295998e-01+6.50745409e-01j\n",
      "  7.53713025e-01+6.57203679e-01j  7.48075122e-01+6.63614053e-01j\n",
      "  7.42382701e-01+6.69976063e-01j  7.36636175e-01+6.76289247e-01j\n",
      "  7.30835964e-01+6.82553143e-01j  7.24982491e-01+6.88767296e-01j\n",
      "  7.19076182e-01+6.94931252e-01j  7.13117467e-01+7.01044562e-01j\n",
      "  7.07106781e-01+7.07106781e-01j  7.01044562e-01+7.13117467e-01j\n",
      "  6.94931252e-01+7.19076182e-01j  6.88767296e-01+7.24982491e-01j\n",
      "  6.82553143e-01+7.30835964e-01j  6.76289247e-01+7.36636175e-01j\n",
      "  6.69976063e-01+7.42382701e-01j  6.63614053e-01+7.48075122e-01j\n",
      "  6.57203679e-01+7.53713025e-01j  6.50745409e-01+7.59295998e-01j\n",
      "  6.44239713e-01+7.64823635e-01j  6.37687065e-01+7.70295532e-01j\n",
      "  6.31087944e-01+7.75711291e-01j  6.24442830e-01+7.81070517e-01j\n",
      "  6.17752207e-01+7.86372819e-01j  6.11016564e-01+7.91617811e-01j\n",
      "  6.04236390e-01+7.96805111e-01j  5.97412179e-01+8.01934341e-01j\n",
      "  5.90544431e-01+8.07005127e-01j  5.83633644e-01+8.12017100e-01j\n",
      "  5.76680322e-01+8.16969893e-01j  5.69684973e-01+8.21863147e-01j\n",
      "  5.62648105e-01+8.26696504e-01j  5.55570233e-01+8.31469612e-01j\n",
      "  5.48451871e-01+8.36182124e-01j  5.41293539e-01+8.40833696e-01j\n",
      "  5.34095758e-01+8.45423989e-01j  5.26859052e-01+8.49952669e-01j\n",
      "  5.19583950e-01+8.54419405e-01j  5.12270981e-01+8.58823871e-01j\n",
      "  5.04920678e-01+8.63165748e-01j  4.97533578e-01+8.67444718e-01j\n",
      "  4.90110217e-01+8.71660470e-01j  4.82651138e-01+8.75812696e-01j\n",
      "  4.75156884e-01+8.79901094e-01j  4.67628001e-01+8.83925366e-01j\n",
      "  4.60065038e-01+8.87885218e-01j  4.52468546e-01+8.91780363e-01j\n",
      "  4.44839078e-01+8.95610515e-01j  4.37177191e-01+8.99375396e-01j\n",
      "  4.29483443e-01+9.03074732e-01j  4.21758395e-01+9.06708253e-01j\n",
      "  4.14002609e-01+9.10275694e-01j  4.06216652e-01+9.13776795e-01j\n",
      "  3.98401090e-01+9.17211302e-01j  3.90556493e-01+9.20578962e-01j\n",
      "  3.82683432e-01+9.23879533e-01j  3.74782482e-01+9.27112771e-01j\n",
      "  3.66854219e-01+9.30278443e-01j  3.58899219e-01+9.33376318e-01j\n",
      "  3.50918064e-01+9.36406169e-01j  3.42911333e-01+9.39367775e-01j\n",
      "  3.34879612e-01+9.42260922e-01j  3.26823485e-01+9.45085398e-01j\n",
      "  3.18743540e-01+9.47840997e-01j  3.10640365e-01+9.50527519e-01j\n",
      "  3.02514551e-01+9.53144767e-01j  2.94366690e-01+9.55692551e-01j\n",
      "  2.86197376e-01+9.58170685e-01j  2.78007204e-01+9.60578989e-01j\n",
      "  2.69796771e-01+9.62917287e-01j  2.61566676e-01+9.65185409e-01j\n",
      "  2.53317518e-01+9.67383189e-01j  2.45049899e-01+9.69510468e-01j\n",
      "  2.36764420e-01+9.71567089e-01j  2.28461687e-01+9.73552904e-01j\n",
      "  2.20142304e-01+9.75467768e-01j  2.11806876e-01+9.77311540e-01j\n",
      "  2.03456013e-01+9.79084088e-01j  1.95090322e-01+9.80785280e-01j\n",
      "  1.86710413e-01+9.82414995e-01j  1.78316897e-01+9.83973112e-01j\n",
      "  1.69910385e-01+9.85459518e-01j  1.61491490e-01+9.86874105e-01j\n",
      "  1.53060826e-01+9.88216769e-01j  1.44619008e-01+9.89487414e-01j\n",
      "  1.36166649e-01+9.90685946e-01j  1.27704367e-01+9.91812278e-01j\n",
      "  1.19232778e-01+9.92866328e-01j  1.10752499e-01+9.93848019e-01j\n",
      "  1.02264149e-01+9.94757279e-01j  9.37683459e-02+9.95594042e-01j\n",
      "  8.52657091e-02+9.96358248e-01j  7.67568582e-02+9.97049841e-01j\n",
      "  6.82424134e-02+9.97668769e-01j  5.97229951e-02+9.98214989e-01j\n",
      "  5.11992243e-02+9.98688460e-01j  4.26717222e-02+9.99089147e-01j\n",
      "  3.41411102e-02+9.99417022e-01j  2.56080100e-02+9.99672061e-01j\n",
      "  1.70730436e-02+9.99854245e-01j  8.53683286e-03+9.99963561e-01j\n",
      "  6.12323400e-17+1.00000000e+00j -8.53683286e-03+9.99963561e-01j\n",
      " -1.70730436e-02+9.99854245e-01j -2.56080100e-02+9.99672061e-01j\n",
      " -3.41411102e-02+9.99417022e-01j -4.26717222e-02+9.99089147e-01j\n",
      " -5.11992243e-02+9.98688460e-01j -5.97229951e-02+9.98214989e-01j\n",
      " -6.82424134e-02+9.97668769e-01j -7.67568582e-02+9.97049841e-01j\n",
      " -8.52657091e-02+9.96358248e-01j -9.37683459e-02+9.95594042e-01j\n",
      " -1.02264149e-01+9.94757279e-01j -1.10752499e-01+9.93848019e-01j\n",
      " -1.19232778e-01+9.92866328e-01j -1.27704367e-01+9.91812278e-01j\n",
      " -1.36166649e-01+9.90685946e-01j -1.44619008e-01+9.89487414e-01j\n",
      " -1.53060826e-01+9.88216769e-01j -1.61491490e-01+9.86874105e-01j\n",
      " -1.69910385e-01+9.85459518e-01j -1.78316897e-01+9.83973112e-01j\n",
      " -1.86710413e-01+9.82414995e-01j -1.95090322e-01+9.80785280e-01j\n",
      " -2.03456013e-01+9.79084088e-01j -2.11806876e-01+9.77311540e-01j\n",
      " -2.20142304e-01+9.75467768e-01j -2.28461687e-01+9.73552904e-01j\n",
      " -2.36764420e-01+9.71567089e-01j -2.45049899e-01+9.69510468e-01j\n",
      " -2.53317518e-01+9.67383189e-01j -2.61566676e-01+9.65185409e-01j\n",
      " -2.69796771e-01+9.62917287e-01j -2.78007204e-01+9.60578989e-01j\n",
      " -2.86197376e-01+9.58170685e-01j -2.94366690e-01+9.55692551e-01j\n",
      " -3.02514551e-01+9.53144767e-01j -3.10640365e-01+9.50527519e-01j\n",
      " -3.18743540e-01+9.47840997e-01j -3.26823485e-01+9.45085398e-01j\n",
      " -3.34879612e-01+9.42260922e-01j -3.42911333e-01+9.39367775e-01j\n",
      " -3.50918064e-01+9.36406169e-01j -3.58899219e-01+9.33376318e-01j\n",
      " -3.66854219e-01+9.30278443e-01j -3.74782482e-01+9.27112771e-01j\n",
      " -3.82683432e-01+9.23879533e-01j -3.90556493e-01+9.20578962e-01j\n",
      " -3.98401090e-01+9.17211302e-01j -4.06216652e-01+9.13776795e-01j\n",
      " -4.14002609e-01+9.10275694e-01j -4.21758395e-01+9.06708253e-01j\n",
      " -4.29483443e-01+9.03074732e-01j -4.37177191e-01+8.99375396e-01j\n",
      " -4.44839078e-01+8.95610515e-01j -4.52468546e-01+8.91780363e-01j\n",
      " -4.60065038e-01+8.87885218e-01j -4.67628001e-01+8.83925366e-01j\n",
      " -4.75156884e-01+8.79901094e-01j -4.82651138e-01+8.75812696e-01j\n",
      " -4.90110217e-01+8.71660470e-01j -4.97533578e-01+8.67444718e-01j\n",
      " -5.04920678e-01+8.63165748e-01j -5.12270981e-01+8.58823871e-01j\n",
      " -5.19583950e-01+8.54419405e-01j -5.26859052e-01+8.49952669e-01j\n",
      " -5.34095758e-01+8.45423989e-01j -5.41293539e-01+8.40833696e-01j\n",
      " -5.48451871e-01+8.36182124e-01j -5.55570233e-01+8.31469612e-01j\n",
      " -5.62648105e-01+8.26696504e-01j -5.69684973e-01+8.21863147e-01j\n",
      " -5.76680322e-01+8.16969893e-01j -5.83633644e-01+8.12017100e-01j\n",
      " -5.90544431e-01+8.07005127e-01j -5.97412179e-01+8.01934341e-01j\n",
      " -6.04236390e-01+7.96805111e-01j -6.11016564e-01+7.91617811e-01j\n",
      " -6.17752207e-01+7.86372819e-01j -6.24442830e-01+7.81070517e-01j\n",
      " -6.31087944e-01+7.75711291e-01j -6.37687065e-01+7.70295532e-01j\n",
      " -6.44239713e-01+7.64823635e-01j -6.50745409e-01+7.59295998e-01j\n",
      " -6.57203679e-01+7.53713025e-01j -6.63614053e-01+7.48075122e-01j\n",
      " -6.69976063e-01+7.42382701e-01j -6.76289247e-01+7.36636175e-01j\n",
      " -6.82553143e-01+7.30835964e-01j -6.88767296e-01+7.24982491e-01j\n",
      " -6.94931252e-01+7.19076182e-01j -7.01044562e-01+7.13117467e-01j\n",
      " -7.07106781e-01+7.07106781e-01j -7.13117467e-01+7.01044562e-01j\n",
      " -7.19076182e-01+6.94931252e-01j -7.24982491e-01+6.88767296e-01j\n",
      " -7.30835964e-01+6.82553143e-01j -7.36636175e-01+6.76289247e-01j\n",
      " -7.42382701e-01+6.69976063e-01j -7.48075122e-01+6.63614053e-01j\n",
      " -7.53713025e-01+6.57203679e-01j -7.59295998e-01+6.50745409e-01j\n",
      " -7.64823635e-01+6.44239713e-01j -7.70295532e-01+6.37687065e-01j\n",
      " -7.75711291e-01+6.31087944e-01j -7.81070517e-01+6.24442830e-01j\n",
      " -7.86372819e-01+6.17752207e-01j -7.91617811e-01+6.11016564e-01j\n",
      " -7.96805111e-01+6.04236390e-01j -8.01934341e-01+5.97412179e-01j\n",
      " -8.07005127e-01+5.90544431e-01j -8.12017100e-01+5.83633644e-01j\n",
      " -8.16969893e-01+5.76680322e-01j -8.21863147e-01+5.69684973e-01j\n",
      " -8.26696504e-01+5.62648105e-01j -8.31469612e-01+5.55570233e-01j\n",
      " -8.36182124e-01+5.48451871e-01j -8.40833696e-01+5.41293539e-01j\n",
      " -8.45423989e-01+5.34095758e-01j -8.49952669e-01+5.26859052e-01j\n",
      " -8.54419405e-01+5.19583950e-01j -8.58823871e-01+5.12270981e-01j\n",
      " -8.63165748e-01+5.04920678e-01j -8.67444718e-01+4.97533578e-01j\n",
      " -8.71660470e-01+4.90110217e-01j -8.75812696e-01+4.82651138e-01j\n",
      " -8.79901094e-01+4.75156884e-01j -8.83925366e-01+4.67628001e-01j\n",
      " -8.87885218e-01+4.60065038e-01j -8.91780363e-01+4.52468546e-01j\n",
      " -8.95610515e-01+4.44839078e-01j -8.99375396e-01+4.37177191e-01j\n",
      " -9.03074732e-01+4.29483443e-01j -9.06708253e-01+4.21758395e-01j\n",
      " -9.10275694e-01+4.14002609e-01j -9.13776795e-01+4.06216652e-01j\n",
      " -9.17211302e-01+3.98401090e-01j -9.20578962e-01+3.90556493e-01j\n",
      " -9.23879533e-01+3.82683432e-01j -9.27112771e-01+3.74782482e-01j\n",
      " -9.30278443e-01+3.66854219e-01j -9.33376318e-01+3.58899219e-01j\n",
      " -9.36406169e-01+3.50918064e-01j -9.39367775e-01+3.42911333e-01j\n",
      " -9.42260922e-01+3.34879612e-01j -9.45085398e-01+3.26823485e-01j\n",
      " -9.47840997e-01+3.18743540e-01j -9.50527519e-01+3.10640365e-01j\n",
      " -9.53144767e-01+3.02514551e-01j -9.55692551e-01+2.94366690e-01j\n",
      " -9.58170685e-01+2.86197376e-01j -9.60578989e-01+2.78007204e-01j\n",
      " -9.62917287e-01+2.69796771e-01j -9.65185409e-01+2.61566676e-01j\n",
      " -9.67383189e-01+2.53317518e-01j -9.69510468e-01+2.45049899e-01j\n",
      " -9.71567089e-01+2.36764420e-01j -9.73552904e-01+2.28461687e-01j\n",
      " -9.75467768e-01+2.20142304e-01j -9.77311540e-01+2.11806876e-01j\n",
      " -9.79084088e-01+2.03456013e-01j -9.80785280e-01+1.95090322e-01j\n",
      " -9.82414995e-01+1.86710413e-01j -9.83973112e-01+1.78316897e-01j\n",
      " -9.85459518e-01+1.69910385e-01j -9.86874105e-01+1.61491490e-01j\n",
      " -9.88216769e-01+1.53060826e-01j -9.89487414e-01+1.44619008e-01j\n",
      " -9.90685946e-01+1.36166649e-01j -9.91812278e-01+1.27704367e-01j\n",
      " -9.92866328e-01+1.19232778e-01j -9.93848019e-01+1.10752499e-01j\n",
      " -9.94757279e-01+1.02264149e-01j -9.95594042e-01+9.37683459e-02j\n",
      " -9.96358248e-01+8.52657091e-02j -9.97049841e-01+7.67568582e-02j\n",
      " -9.97668769e-01+6.82424134e-02j -9.98214989e-01+5.97229951e-02j\n",
      " -9.98688460e-01+5.11992243e-02j -9.99089147e-01+4.26717222e-02j\n",
      " -9.99417022e-01+3.41411102e-02j -9.99672061e-01+2.56080100e-02j\n",
      " -9.99854245e-01+1.70730436e-02j -9.99963561e-01+8.53683286e-03j\n",
      " -1.00000000e+00+1.22464680e-16j -9.99963758e-01+8.51369838e-03j\n",
      " -9.99855034e-01+1.70267796e-02j -9.99673836e-01+2.55386267e-02j\n",
      " -9.99420178e-01+3.40486227e-02j -9.99094077e-01+4.25561506e-02j\n",
      " -9.98695557e-01+5.10605939e-02j -9.98224648e-01+5.95613361e-02j\n",
      " -9.97681383e-01+6.80577610e-02j -9.97065801e-01+7.65492528e-02j\n",
      " -9.96377948e-01+8.50351960e-02j -9.95617873e-01+9.35149755e-02j\n",
      " -9.94785631e-01+1.01987977e-01j -9.93881283e-01+1.10453585e-01j\n",
      " -9.92904894e-01+1.18911187e-01j -9.91856535e-01+1.27360171e-01j\n",
      " -9.90736282e-01+1.35799922e-01j -9.89544216e-01+1.44229830e-01j\n",
      " -9.88280424e-01+1.52649284e-01j -9.86944996e-01+1.61057673e-01j\n",
      " -9.85538031e-01+1.69454388e-01j -9.84059629e-01+1.77838820e-01j\n",
      " -9.82509899e-01+1.86210362e-01j -9.80888952e-01+1.94568406e-01j\n",
      " -9.79196905e-01+2.02912347e-01j -9.77433883e-01+2.11241580e-01j\n",
      " -9.75600011e-01+2.19555502e-01j -9.73695424e-01+2.27853509e-01j\n",
      " -9.71720259e-01+2.36135000e-01j -9.69674660e-01+2.44399375e-01j\n",
      " -9.67558774e-01+2.52646035e-01j -9.65372755e-01+2.60874382e-01j\n",
      " -9.63116762e-01+2.69083820e-01j -9.60790958e-01+2.77273754e-01j\n",
      " -9.58395512e-01+2.85443589e-01j -9.55930597e-01+2.93592734e-01j\n",
      " -9.53396392e-01+3.01720599e-01j -9.50793081e-01+3.09826593e-01j\n",
      " -9.48120852e-01+3.17910130e-01j -9.45379899e-01+3.25970623e-01j\n",
      " -9.42570421e-01+3.34007488e-01j -9.39692621e-01+3.42020143e-01j\n",
      " -9.36746708e-01+3.50008007e-01j -9.33732896e-01+3.57970501e-01j\n",
      " -9.30651402e-01+3.65907048e-01j -9.27502451e-01+3.73817072e-01j\n",
      " -9.24286271e-01+3.81700000e-01j -9.21003094e-01+3.89555261e-01j\n",
      " -9.17653159e-01+3.97382285e-01j -9.14236708e-01+4.05180505e-01j\n",
      " -9.10753989e-01+4.12949356e-01j -9.07205255e-01+4.20688275e-01j\n",
      " -9.03590763e-01+4.28396700e-01j -8.99910775e-01+4.36074073e-01j\n",
      " -8.96165557e-01+4.43719838e-01j -8.92355381e-01+4.51333440e-01j\n",
      " -8.88480523e-01+4.58914327e-01j -8.84541265e-01+4.66461950e-01j\n",
      " -8.80537891e-01+4.73975762e-01j -8.76470691e-01+4.81455218e-01j\n",
      " -8.72339962e-01+4.88899776e-01j -8.68146001e-01+4.96308897e-01j\n",
      " -8.63889113e-01+5.03682043e-01j -8.59569607e-01+5.11018679e-01j\n",
      " -8.55187795e-01+5.18318275e-01j -8.50743996e-01+5.25580301e-01j\n",
      " -8.46238531e-01+5.32804231e-01j -8.41671727e-01+5.39989541e-01j\n",
      " -8.37043915e-01+5.47135709e-01j -8.32355430e-01+5.54242219e-01j\n",
      " -8.27606613e-01+5.61308556e-01j -8.22797807e-01+5.68334206e-01j\n",
      " -8.17929361e-01+5.75318660e-01j -8.13001628e-01+5.82261413e-01j\n",
      " -8.08014965e-01+5.89161961e-01j -8.02969733e-01+5.96019805e-01j\n",
      " -7.97866299e-01+6.02834446e-01j -7.92705032e-01+6.09605391e-01j\n",
      " -7.87486306e-01+6.16332149e-01j -7.82210500e-01+6.23014232e-01j\n",
      " -7.76877996e-01+6.29651157e-01j -7.71489180e-01+6.36242442e-01j\n",
      " -7.66044443e-01+6.42787610e-01j -7.60544180e-01+6.49286185e-01j\n",
      " -7.54988790e-01+6.55737697e-01j -7.49378674e-01+6.62141679e-01j\n",
      " -7.43714241e-01+6.68497665e-01j -7.37995899e-01+6.74805196e-01j\n",
      " -7.32224065e-01+6.81063814e-01j -7.26399155e-01+6.87273066e-01j\n",
      " -7.20521594e-01+6.93432501e-01j -7.14591805e-01+6.99541673e-01j\n",
      " -7.08610220e-01+7.05600139e-01j -7.02577272e-01+7.11607460e-01j\n",
      " -6.96493397e-01+7.17563201e-01j -6.90359038e-01+7.23466930e-01j\n",
      " -6.84174639e-01+7.29318218e-01j -6.77940648e-01+7.35116643e-01j\n",
      " -6.71657516e-01+7.40861783e-01j -6.65325700e-01+7.46553222e-01j\n",
      " -6.58945658e-01+7.52190547e-01j -6.52517853e-01+7.57773351e-01j\n",
      " -6.46042751e-01+7.63301228e-01j -6.39520820e-01+7.68773777e-01j\n",
      " -6.32952535e-01+7.74190602e-01j -6.26338370e-01+7.79551311e-01j\n",
      " -6.19678805e-01+7.84855514e-01j -6.12974324e-01+7.90102828e-01j\n",
      " -6.06225411e-01+7.95292871e-01j -5.99432556e-01+8.00425268e-01j\n",
      " -5.92596252e-01+8.05499647e-01j -5.85716994e-01+8.10515640e-01j\n",
      " -5.78795281e-01+8.15472883e-01j -5.71831614e-01+8.20371017e-01j\n",
      " -5.64826498e-01+8.25209687e-01j -5.57780441e-01+8.29988542e-01j\n",
      " -5.50693954e-01+8.34707236e-01j -5.43567550e-01+8.39365426e-01j\n",
      " -5.36401746e-01+8.43962776e-01j -5.29197061e-01+8.48498951e-01j\n",
      " -5.21954018e-01+8.52973624e-01j -5.14673141e-01+8.57386470e-01j\n",
      " -5.07354958e-01+8.61737168e-01j -5.00000000e-01+8.66025404e-01j\n",
      " -4.92608800e-01+8.70250866e-01j -4.85181893e-01+8.74413249e-01j\n",
      " -4.77719819e-01+8.78512251e-01j -4.70223117e-01+8.82547574e-01j\n",
      " -4.62692331e-01+8.86518926e-01j -4.55128007e-01+8.90426020e-01j\n",
      " -4.47530694e-01+8.94268572e-01j -4.39900941e-01+8.98046303e-01j\n",
      " -4.32239303e-01+9.01758939e-01j -4.24546334e-01+9.05406213e-01j\n",
      " -4.16822592e-01+9.08987858e-01j -4.09068637e-01+9.12503616e-01j\n",
      " -4.01285031e-01+9.15953232e-01j -3.93472338e-01+9.19336456e-01j\n",
      " -3.85631124e-01+9.22653042e-01j -3.77761959e-01+9.25902750e-01j\n",
      " -3.69865411e-01+9.29085345e-01j -3.61942054e-01+9.32200595e-01j\n",
      " -3.53992462e-01+9.35248276e-01j -3.46017210e-01+9.38228165e-01j\n",
      " -3.38016878e-01+9.41140048e-01j -3.29992045e-01+9.43983713e-01j\n",
      " -3.21943293e-01+9.46758953e-01j -3.13871205e-01+9.49465569e-01j\n",
      " -3.05776366e-01+9.52103363e-01j -2.97659363e-01+9.54672144e-01j\n",
      " -2.89520785e-01+9.57171727e-01j -2.81361221e-01+9.59601930e-01j\n",
      " -2.73181262e-01+9.61962576e-01j -2.64981502e-01+9.64253495e-01j\n",
      " -2.56762535e-01+9.66474521e-01j -2.48524957e-01+9.68625493e-01j\n",
      " -2.40269365e-01+9.70706254e-01j -2.31996357e-01+9.72716655e-01j\n",
      " -2.23706532e-01+9.74656548e-01j -2.15400493e-01+9.76525795e-01j\n",
      " -2.07078840e-01+9.78324258e-01j -1.98742178e-01+9.80051808e-01j\n",
      " -1.90391109e-01+9.81708320e-01j -1.82026240e-01+9.83293673e-01j\n",
      " -1.73648178e-01+9.84807753e-01j -1.65257528e-01+9.86250450e-01j\n",
      " -1.56854900e-01+9.87621659e-01j -1.48440902e-01+9.88921280e-01j\n",
      " -1.40016145e-01+9.90149221e-01j -1.31581239e-01+9.91305391e-01j\n",
      " -1.23136795e-01+9.92389707e-01j -1.14683425e-01+9.93402090e-01j\n",
      " -1.06221743e-01+9.94342467e-01j -9.77523617e-02+9.95210770e-01j\n",
      " -8.92758946e-02+9.96006935e-01j -8.07929565e-02+9.96730906e-01j\n",
      " -7.23041621e-02+9.97382629e-01j -6.38101267e-02+9.97962057e-01j\n",
      " -5.53114662e-02+9.98469149e-01j -4.68087964e-02+9.98903868e-01j\n",
      " -3.83027337e-02+9.99266181e-01j -2.97938947e-02+9.99556063e-01j\n",
      " -2.12828960e-02+9.99773494e-01j -1.27703547e-02+9.99918456e-01j\n",
      " -4.25688776e-03+9.99990939e-01j  4.25688776e-03+9.99990939e-01j\n",
      "  1.27703547e-02+9.99918456e-01j  2.12828960e-02+9.99773494e-01j\n",
      "  2.97938947e-02+9.99556063e-01j  3.83027337e-02+9.99266181e-01j\n",
      "  4.68087964e-02+9.98903868e-01j  5.53114662e-02+9.98469149e-01j\n",
      "  6.38101267e-02+9.97962057e-01j  7.23041621e-02+9.97382629e-01j\n",
      "  8.07929565e-02+9.96730906e-01j  8.92758946e-02+9.96006935e-01j\n",
      "  9.77523617e-02+9.95210770e-01j  1.06221743e-01+9.94342467e-01j\n",
      "  1.14683425e-01+9.93402090e-01j  1.23136795e-01+9.92389707e-01j\n",
      "  1.31581239e-01+9.91305391e-01j  1.40016145e-01+9.90149221e-01j\n",
      "  1.48440902e-01+9.88921280e-01j  1.56854900e-01+9.87621659e-01j\n",
      "  1.65257528e-01+9.86250450e-01j  1.73648178e-01+9.84807753e-01j\n",
      "  1.82026240e-01+9.83293673e-01j  1.90391109e-01+9.81708320e-01j\n",
      "  1.98742178e-01+9.80051808e-01j  2.07078840e-01+9.78324258e-01j\n",
      "  2.15400493e-01+9.76525795e-01j  2.23706532e-01+9.74656548e-01j\n",
      "  2.31996357e-01+9.72716655e-01j  2.40269365e-01+9.70706254e-01j\n",
      "  2.48524957e-01+9.68625493e-01j  2.56762535e-01+9.66474521e-01j\n",
      "  2.64981502e-01+9.64253495e-01j  2.73181262e-01+9.61962576e-01j\n",
      "  2.81361221e-01+9.59601930e-01j  2.89520785e-01+9.57171727e-01j\n",
      "  2.97659363e-01+9.54672144e-01j  3.05776366e-01+9.52103363e-01j\n",
      "  3.13871205e-01+9.49465569e-01j  3.21943293e-01+9.46758953e-01j\n",
      "  3.29992045e-01+9.43983713e-01j  3.38016878e-01+9.41140048e-01j\n",
      "  3.46017210e-01+9.38228165e-01j  3.53992462e-01+9.35248276e-01j\n",
      "  3.61942054e-01+9.32200595e-01j  3.69865411e-01+9.29085345e-01j\n",
      "  3.77761959e-01+9.25902750e-01j  3.85631124e-01+9.22653042e-01j\n",
      "  3.93472338e-01+9.19336456e-01j  4.01285031e-01+9.15953232e-01j\n",
      "  4.09068637e-01+9.12503616e-01j  4.16822592e-01+9.08987858e-01j\n",
      "  4.24546334e-01+9.05406213e-01j  4.32239303e-01+9.01758939e-01j\n",
      "  4.39900941e-01+8.98046303e-01j  4.47530694e-01+8.94268572e-01j\n",
      "  4.55128007e-01+8.90426020e-01j  4.62692331e-01+8.86518926e-01j\n",
      "  4.70223117e-01+8.82547574e-01j  4.77719819e-01+8.78512251e-01j\n",
      "  4.85181893e-01+8.74413249e-01j  4.92608800e-01+8.70250866e-01j\n",
      "  5.00000000e-01+8.66025404e-01j  5.07354958e-01+8.61737168e-01j\n",
      "  5.14673141e-01+8.57386470e-01j  5.21954018e-01+8.52973624e-01j\n",
      "  5.29197061e-01+8.48498951e-01j  5.36401746e-01+8.43962776e-01j\n",
      "  5.43567550e-01+8.39365426e-01j  5.50693954e-01+8.34707236e-01j\n",
      "  5.57780441e-01+8.29988542e-01j  5.64826498e-01+8.25209687e-01j\n",
      "  5.71831614e-01+8.20371017e-01j  5.78795281e-01+8.15472883e-01j\n",
      "  5.85716994e-01+8.10515640e-01j  5.92596252e-01+8.05499647e-01j\n",
      "  5.99432556e-01+8.00425268e-01j  6.06225411e-01+7.95292871e-01j\n",
      "  6.12974324e-01+7.90102828e-01j  6.19678805e-01+7.84855514e-01j\n",
      "  6.26338370e-01+7.79551311e-01j  6.32952535e-01+7.74190602e-01j\n",
      "  6.39520820e-01+7.68773777e-01j  6.46042751e-01+7.63301228e-01j\n",
      "  6.52517853e-01+7.57773351e-01j  6.58945658e-01+7.52190547e-01j\n",
      "  6.65325700e-01+7.46553222e-01j  6.71657516e-01+7.40861783e-01j\n",
      "  6.77940648e-01+7.35116643e-01j  6.84174639e-01+7.29318218e-01j\n",
      "  6.90359038e-01+7.23466930e-01j  6.96493397e-01+7.17563201e-01j\n",
      "  7.02577272e-01+7.11607460e-01j  7.08610220e-01+7.05600139e-01j\n",
      "  7.14591805e-01+6.99541673e-01j  7.20521594e-01+6.93432501e-01j\n",
      "  7.26399155e-01+6.87273066e-01j  7.32224065e-01+6.81063814e-01j\n",
      "  7.37995899e-01+6.74805196e-01j  7.43714241e-01+6.68497665e-01j\n",
      "  7.49378674e-01+6.62141679e-01j  7.54988790e-01+6.55737697e-01j\n",
      "  7.60544180e-01+6.49286185e-01j  7.66044443e-01+6.42787610e-01j\n",
      "  7.71489180e-01+6.36242442e-01j  7.76877996e-01+6.29651157e-01j\n",
      "  7.82210500e-01+6.23014232e-01j  7.87486306e-01+6.16332149e-01j\n",
      "  7.92705032e-01+6.09605391e-01j  7.97866299e-01+6.02834446e-01j\n",
      "  8.02969733e-01+5.96019805e-01j  8.08014965e-01+5.89161961e-01j\n",
      "  8.13001628e-01+5.82261413e-01j  8.17929361e-01+5.75318660e-01j\n",
      "  8.22797807e-01+5.68334206e-01j  8.27606613e-01+5.61308556e-01j\n",
      "  8.32355430e-01+5.54242219e-01j  8.37043915e-01+5.47135709e-01j\n",
      "  8.41671727e-01+5.39989541e-01j  8.46238531e-01+5.32804231e-01j\n",
      "  8.50743996e-01+5.25580301e-01j  8.55187795e-01+5.18318275e-01j\n",
      "  8.59569607e-01+5.11018679e-01j  8.63889113e-01+5.03682043e-01j\n",
      "  8.68146001e-01+4.96308897e-01j  8.72339962e-01+4.88899776e-01j\n",
      "  8.76470691e-01+4.81455218e-01j  8.80537891e-01+4.73975762e-01j\n",
      "  8.84541265e-01+4.66461950e-01j  8.88480523e-01+4.58914327e-01j\n",
      "  8.92355381e-01+4.51333440e-01j  8.96165557e-01+4.43719838e-01j\n",
      "  8.99910775e-01+4.36074073e-01j  9.03590763e-01+4.28396700e-01j\n",
      "  9.07205255e-01+4.20688275e-01j  9.10753989e-01+4.12949356e-01j\n",
      "  9.14236708e-01+4.05180505e-01j  9.17653159e-01+3.97382285e-01j\n",
      "  9.21003094e-01+3.89555261e-01j  9.24286271e-01+3.81700000e-01j\n",
      "  9.27502451e-01+3.73817072e-01j  9.30651402e-01+3.65907048e-01j\n",
      "  9.33732896e-01+3.57970501e-01j  9.36746708e-01+3.50008007e-01j\n",
      "  9.39692621e-01+3.42020143e-01j  9.42570421e-01+3.34007488e-01j\n",
      "  9.45379899e-01+3.25970623e-01j  9.48120852e-01+3.17910130e-01j\n",
      "  9.50793081e-01+3.09826593e-01j  9.53396392e-01+3.01720599e-01j\n",
      "  9.55930597e-01+2.93592734e-01j  9.58395512e-01+2.85443589e-01j\n",
      "  9.60790958e-01+2.77273754e-01j  9.63116762e-01+2.69083820e-01j\n",
      "  9.65372755e-01+2.60874382e-01j  9.67558774e-01+2.52646035e-01j\n",
      "  9.69674660e-01+2.44399375e-01j  9.71720259e-01+2.36135000e-01j\n",
      "  9.73695424e-01+2.27853509e-01j  9.75600011e-01+2.19555502e-01j\n",
      "  9.77433883e-01+2.11241580e-01j  9.79196905e-01+2.02912347e-01j\n",
      "  9.80888952e-01+1.94568406e-01j  9.82509899e-01+1.86210362e-01j\n",
      "  9.84059629e-01+1.77838820e-01j  9.85538031e-01+1.69454388e-01j\n",
      "  9.86944996e-01+1.61057673e-01j  9.88280424e-01+1.52649284e-01j\n",
      "  9.89544216e-01+1.44229830e-01j  9.90736282e-01+1.35799922e-01j\n",
      "  9.91856535e-01+1.27360171e-01j  9.92904894e-01+1.18911187e-01j\n",
      "  9.93881283e-01+1.10453585e-01j  9.94785631e-01+1.01987977e-01j\n",
      "  9.95617873e-01+9.35149755e-02j  9.96377948e-01+8.50351960e-02j\n",
      "  9.97065801e-01+7.65492528e-02j  9.97681383e-01+6.80577610e-02j\n",
      "  9.98224648e-01+5.95613361e-02j  9.98695557e-01+5.10605939e-02j\n",
      "  9.99094077e-01+4.25561506e-02j  9.99420178e-01+3.40486227e-02j\n",
      "  9.99673836e-01+2.55386267e-02j  9.99855034e-01+1.70267796e-02j\n",
      "  9.99963758e-01+8.51369838e-03j  1.00000000e+00-0.00000000e+00j\n",
      "  1.00000000e+00-0.00000000e+00j  1.00000000e+00-0.00000000e+00j\n",
      "  1.00000000e+00-0.00000000e+00j  1.00000000e+00-0.00000000e+00j\n",
      "  1.00000000e+00-0.00000000e+00j  1.00000000e+00-0.00000000e+00j\n",
      "  1.00000000e+00-0.00000000e+00j  1.00000000e+00-0.00000000e+00j\n",
      "  1.00000000e+00-0.00000000e+00j  1.00000000e+00-0.00000000e+00j\n",
      "  1.00000000e+00-0.00000000e+00j  1.00000000e+00-0.00000000e+00j\n",
      "  1.00000000e+00-0.00000000e+00j  1.00000000e+00-0.00000000e+00j\n",
      "  1.00000000e+00-0.00000000e+00j  1.00000000e+00-0.00000000e+00j\n",
      "  1.00000000e+00-0.00000000e+00j  1.00000000e+00-0.00000000e+00j\n",
      "  1.00000000e+00-0.00000000e+00j  1.00000000e+00-0.00000000e+00j\n",
      "  1.00000000e+00-0.00000000e+00j  1.00000000e+00-0.00000000e+00j\n",
      "  1.00000000e+00-0.00000000e+00j  1.00000000e+00-0.00000000e+00j\n",
      "  1.00000000e+00-0.00000000e+00j  1.00000000e+00-0.00000000e+00j\n",
      "  1.00000000e+00-0.00000000e+00j  1.00000000e+00-0.00000000e+00j\n",
      "  1.00000000e+00-0.00000000e+00j  1.00000000e+00-0.00000000e+00j\n",
      "  1.00000000e+00-0.00000000e+00j  1.00000000e+00-0.00000000e+00j\n",
      "  1.00000000e+00-0.00000000e+00j  1.00000000e+00-0.00000000e+00j\n",
      "  1.00000000e+00-0.00000000e+00j  1.00000000e+00-0.00000000e+00j\n",
      "  1.00000000e+00-0.00000000e+00j  1.00000000e+00-0.00000000e+00j\n",
      "  1.00000000e+00-0.00000000e+00j  1.00000000e+00-0.00000000e+00j\n",
      "  1.00000000e+00-0.00000000e+00j  1.00000000e+00-0.00000000e+00j\n",
      "  1.00000000e+00-0.00000000e+00j  1.00000000e+00-0.00000000e+00j\n",
      "  1.00000000e+00-0.00000000e+00j  1.00000000e+00-0.00000000e+00j\n",
      "  1.00000000e+00-0.00000000e+00j  1.00000000e+00-0.00000000e+00j\n",
      "  1.00000000e+00-0.00000000e+00j  1.00000000e+00-0.00000000e+00j\n",
      "  1.00000000e+00-0.00000000e+00j  1.00000000e+00-0.00000000e+00j\n",
      "  1.00000000e+00-0.00000000e+00j  1.00000000e+00-0.00000000e+00j\n",
      "  1.00000000e+00-0.00000000e+00j  1.00000000e+00-0.00000000e+00j\n",
      "  1.00000000e+00-0.00000000e+00j  1.00000000e+00-0.00000000e+00j\n",
      "  1.00000000e+00-0.00000000e+00j  1.00000000e+00-0.00000000e+00j\n",
      "  1.00000000e+00-0.00000000e+00j  1.00000000e+00-0.00000000e+00j\n",
      "  1.00000000e+00-0.00000000e+00j  1.00000000e+00-0.00000000e+00j\n",
      "  1.00000000e+00-0.00000000e+00j  1.00000000e+00-0.00000000e+00j\n",
      "  1.00000000e+00-0.00000000e+00j  1.00000000e+00-0.00000000e+00j\n",
      "  1.00000000e+00-0.00000000e+00j  1.00000000e+00-0.00000000e+00j\n",
      "  1.00000000e+00-0.00000000e+00j  1.00000000e+00-0.00000000e+00j\n",
      "  1.00000000e+00-0.00000000e+00j  1.00000000e+00-0.00000000e+00j\n",
      "  1.00000000e+00-0.00000000e+00j  1.00000000e+00-0.00000000e+00j\n",
      "  1.00000000e+00-0.00000000e+00j  1.00000000e+00-0.00000000e+00j\n",
      "  1.00000000e+00-0.00000000e+00j  1.00000000e+00-0.00000000e+00j\n",
      "  1.00000000e+00-0.00000000e+00j  1.00000000e+00-0.00000000e+00j\n",
      "  1.00000000e+00-0.00000000e+00j  1.00000000e+00-0.00000000e+00j\n",
      "  1.00000000e+00-0.00000000e+00j  1.00000000e+00-0.00000000e+00j\n",
      "  1.00000000e+00-0.00000000e+00j  1.00000000e+00-0.00000000e+00j\n",
      "  1.00000000e+00-0.00000000e+00j  1.00000000e+00-0.00000000e+00j\n",
      "  1.00000000e+00-0.00000000e+00j  1.00000000e+00-0.00000000e+00j\n",
      "  1.00000000e+00-0.00000000e+00j  1.00000000e+00-0.00000000e+00j\n",
      "  1.00000000e+00-0.00000000e+00j  1.00000000e+00-0.00000000e+00j\n",
      "  1.00000000e+00-0.00000000e+00j  1.00000000e+00-0.00000000e+00j\n",
      "  1.00000000e+00-0.00000000e+00j  1.00000000e+00-0.00000000e+00j\n",
      "  1.00000000e+00-0.00000000e+00j  1.00000000e+00-0.00000000e+00j\n",
      "  1.00000000e+00-0.00000000e+00j  1.00000000e+00-0.00000000e+00j\n",
      "  1.00000000e+00-0.00000000e+00j  1.00000000e+00-0.00000000e+00j\n",
      "  1.00000000e+00-0.00000000e+00j  1.00000000e+00-0.00000000e+00j\n",
      "  1.00000000e+00-0.00000000e+00j  1.00000000e+00-0.00000000e+00j\n",
      "  1.00000000e+00-0.00000000e+00j  1.00000000e+00-0.00000000e+00j\n",
      "  1.00000000e+00-0.00000000e+00j  1.00000000e+00-0.00000000e+00j\n",
      "  1.00000000e+00-0.00000000e+00j  1.00000000e+00-0.00000000e+00j\n",
      "  1.00000000e+00-0.00000000e+00j  1.00000000e+00-0.00000000e+00j\n",
      "  1.00000000e+00-0.00000000e+00j  1.00000000e+00-0.00000000e+00j\n",
      "  1.00000000e+00-0.00000000e+00j  1.00000000e+00-0.00000000e+00j\n",
      "  1.00000000e+00-0.00000000e+00j  1.00000000e+00-0.00000000e+00j\n",
      "  1.00000000e+00-0.00000000e+00j  1.00000000e+00-0.00000000e+00j\n",
      "  1.00000000e+00-0.00000000e+00j  1.00000000e+00-0.00000000e+00j\n",
      "  1.00000000e+00-0.00000000e+00j  1.00000000e+00-0.00000000e+00j\n",
      "  1.00000000e+00-0.00000000e+00j  1.00000000e+00-0.00000000e+00j\n",
      "  1.00000000e+00-0.00000000e+00j  1.00000000e+00-0.00000000e+00j\n",
      "  1.00000000e+00-0.00000000e+00j  1.00000000e+00-0.00000000e+00j\n",
      "  1.00000000e+00-0.00000000e+00j  1.00000000e+00-0.00000000e+00j\n",
      "  1.00000000e+00-0.00000000e+00j  1.00000000e+00-0.00000000e+00j\n",
      "  1.00000000e+00-0.00000000e+00j  1.00000000e+00-0.00000000e+00j\n",
      "  1.00000000e+00-0.00000000e+00j  1.00000000e+00-0.00000000e+00j\n",
      "  1.00000000e+00-0.00000000e+00j  1.00000000e+00-0.00000000e+00j\n",
      "  1.00000000e+00-0.00000000e+00j  1.00000000e+00-0.00000000e+00j\n",
      "  1.00000000e+00-0.00000000e+00j  1.00000000e+00-0.00000000e+00j\n",
      "  1.00000000e+00-0.00000000e+00j  1.00000000e+00-0.00000000e+00j\n",
      "  1.00000000e+00-0.00000000e+00j  1.00000000e+00-0.00000000e+00j\n",
      "  1.00000000e+00-0.00000000e+00j  1.00000000e+00-0.00000000e+00j\n",
      "  1.00000000e+00-0.00000000e+00j  1.00000000e+00-0.00000000e+00j\n",
      "  1.00000000e+00-0.00000000e+00j  1.00000000e+00-0.00000000e+00j\n",
      "  1.00000000e+00-0.00000000e+00j  1.00000000e+00-0.00000000e+00j\n",
      "  1.00000000e+00-0.00000000e+00j  1.00000000e+00-0.00000000e+00j\n",
      "  1.00000000e+00-0.00000000e+00j  1.00000000e+00-0.00000000e+00j\n",
      "  1.00000000e+00-0.00000000e+00j  1.00000000e+00-0.00000000e+00j\n",
      "  1.00000000e+00-0.00000000e+00j  1.00000000e+00-0.00000000e+00j\n",
      "  1.00000000e+00-0.00000000e+00j  1.00000000e+00-0.00000000e+00j\n",
      "  1.00000000e+00-0.00000000e+00j  1.00000000e+00-0.00000000e+00j\n",
      "  1.00000000e+00-0.00000000e+00j  1.00000000e+00-0.00000000e+00j\n",
      "  1.00000000e+00-0.00000000e+00j  1.00000000e+00-0.00000000e+00j\n",
      "  1.00000000e+00-0.00000000e+00j  1.00000000e+00-0.00000000e+00j\n",
      "  1.00000000e+00-0.00000000e+00j  1.00000000e+00-0.00000000e+00j\n",
      "  1.00000000e+00-0.00000000e+00j  1.00000000e+00-0.00000000e+00j\n",
      "  1.00000000e+00-0.00000000e+00j  1.00000000e+00-0.00000000e+00j\n",
      "  1.00000000e+00-0.00000000e+00j  1.00000000e+00-0.00000000e+00j\n",
      "  1.00000000e+00-0.00000000e+00j  1.00000000e+00-0.00000000e+00j\n",
      "  1.00000000e+00-0.00000000e+00j  1.00000000e+00-0.00000000e+00j\n",
      "  1.00000000e+00-0.00000000e+00j  1.00000000e+00-0.00000000e+00j\n",
      "  1.00000000e+00-0.00000000e+00j  1.00000000e+00-0.00000000e+00j\n",
      "  1.00000000e+00-0.00000000e+00j  1.00000000e+00-0.00000000e+00j\n",
      "  1.00000000e+00-0.00000000e+00j  1.00000000e+00-0.00000000e+00j\n",
      "  1.00000000e+00-0.00000000e+00j  1.00000000e+00-0.00000000e+00j\n",
      "  1.00000000e+00-0.00000000e+00j  1.00000000e+00-0.00000000e+00j\n",
      "  1.00000000e+00-0.00000000e+00j  1.00000000e+00-0.00000000e+00j\n",
      "  1.00000000e+00-0.00000000e+00j  1.00000000e+00-0.00000000e+00j\n",
      "  1.00000000e+00-0.00000000e+00j  1.00000000e+00-0.00000000e+00j\n",
      "  1.00000000e+00-0.00000000e+00j  1.00000000e+00-0.00000000e+00j\n",
      "  1.00000000e+00-0.00000000e+00j  1.00000000e+00-0.00000000e+00j\n",
      "  1.00000000e+00-0.00000000e+00j  1.00000000e+00-0.00000000e+00j\n",
      "  1.00000000e+00-0.00000000e+00j  1.00000000e+00-0.00000000e+00j\n",
      "  1.00000000e+00-0.00000000e+00j  1.00000000e+00-0.00000000e+00j\n",
      "  1.00000000e+00-0.00000000e+00j  1.00000000e+00-0.00000000e+00j\n",
      "  1.00000000e+00-0.00000000e+00j  1.00000000e+00-0.00000000e+00j\n",
      "  1.00000000e+00-0.00000000e+00j  1.00000000e+00-0.00000000e+00j\n",
      "  1.00000000e+00-0.00000000e+00j  1.00000000e+00-0.00000000e+00j\n",
      "  1.00000000e+00-0.00000000e+00j  1.00000000e+00-0.00000000e+00j\n",
      "  1.00000000e+00-0.00000000e+00j  1.00000000e+00-0.00000000e+00j\n",
      "  1.00000000e+00-0.00000000e+00j  1.00000000e+00-0.00000000e+00j\n",
      "  1.00000000e+00-0.00000000e+00j  1.00000000e+00-0.00000000e+00j\n",
      "  1.00000000e+00-0.00000000e+00j  1.00000000e+00-0.00000000e+00j\n",
      "  1.00000000e+00-0.00000000e+00j  1.00000000e+00-0.00000000e+00j\n",
      "  1.00000000e+00-0.00000000e+00j  1.00000000e+00-0.00000000e+00j\n",
      "  1.00000000e+00-0.00000000e+00j  1.00000000e+00-0.00000000e+00j\n",
      "  1.00000000e+00-0.00000000e+00j  1.00000000e+00-0.00000000e+00j\n",
      "  1.00000000e+00-0.00000000e+00j  1.00000000e+00-0.00000000e+00j\n",
      "  1.00000000e+00-0.00000000e+00j  1.00000000e+00-0.00000000e+00j\n",
      "  1.00000000e+00-0.00000000e+00j  1.00000000e+00-0.00000000e+00j\n",
      "  1.00000000e+00-0.00000000e+00j  1.00000000e+00-0.00000000e+00j\n",
      "  1.00000000e+00-0.00000000e+00j  1.00000000e+00-0.00000000e+00j\n",
      "  1.00000000e+00-0.00000000e+00j  1.00000000e+00-0.00000000e+00j\n",
      "  1.00000000e+00-0.00000000e+00j  1.00000000e+00-0.00000000e+00j\n",
      "  1.00000000e+00-0.00000000e+00j  1.00000000e+00-0.00000000e+00j]\n"
     ]
    }
   ],
   "source": [
    "for num,j in enumerate(Lists_of_Neigbours):\n",
    "    for i in j:\n",
    "        Gamma=(np.exp(-1.0j*np.dot(get_distance_vector(Input_mag,i),np.transpose(2*np.pi*(path.kpts/Input_mag._atoms.cell.diagonal())))))\n",
    "print(Gamma)"
   ]
  },
  {
   "cell_type": "code",
   "execution_count": 30,
   "id": "44188655",
   "metadata": {},
   "outputs": [
    {
     "name": "stderr",
     "output_type": "stream",
     "text": [
      "/home/jcdn500/.local/lib/python3.8/site-packages/matplotlib/cbook/__init__.py:1369: ComplexWarning: Casting complex values to real discards the imaginary part\n",
      "  return np.asarray(x, float)\n"
     ]
    },
    {
     "data": {
      "text/plain": [
       "[<matplotlib.lines.Line2D at 0x7fc4e67ea490>]"
      ]
     },
     "execution_count": 30,
     "metadata": {},
     "output_type": "execute_result"
    },
    {
     "data": {
      "image/png": "[encoded data removed]",
      "text/plain": [
       "<Figure size 432x288 with 1 Axes>"
      ]
     },
     "metadata": {
      "needs_background": "light"
     },
     "output_type": "display_data"
    }
   ],
   "source": [
    "plt.plot(6*25*2*(1-Gamma))"
   ]
  },
  {
   "cell_type": "code",
   "execution_count": null,
   "id": "749493cb",
   "metadata": {},
   "outputs": [],
   "source": []
  }
 ],
 "metadata": {
  "kernelspec": {
   "display_name": "Python 3 (ipykernel)",
   "language": "python",
   "name": "python3"
  },
  "language_info": {
   "codemirror_mode": {
    "name": "ipython",
    "version": 3
   },
   "file_extension": ".py",
   "mimetype": "text/x-python",
   "name": "python",
   "nbconvert_exporter": "python",
   "pygments_lexer": "ipython3",
   "version": "3.8.10"
  }
 },
 "nbformat": 4,
 "nbformat_minor": 5
}
